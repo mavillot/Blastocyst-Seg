{
 "cells": [
  {
   "cell_type": "markdown",
   "id": "61ade6a0",
   "metadata": {},
   "source": [
    "# Automatic Identification of Human Blastocyst Components via Texture\n",
    "> P. Saeedi, D. Yee, J. Au and J. Havelock, \"Automatic Identification of Human Blastocyst Components via Texture,\" in IEEE Transactions on Biomedical Engineering, vol. 64, no. 12, pp. 2968-2978, Dec. 2017, doi: [10.1109/TBME.2017.2759665](https://ieeexplore.ieee.org/document/8059868).\n",
    "\n",
    "They introduce an algorithm for automatic sementation of two man components of human blastocysts named: Trophectoderm (TE) and the inner cell mass (ICM). They utilize texture information along the biological and physucal characteristics of day-5 embryos to identify TE and ICM regions.\n"
   ]
  },
  {
   "cell_type": "code",
   "execution_count": 1,
   "id": "40b657e2",
   "metadata": {},
   "outputs": [],
   "source": [
    "import cv2,os\n",
    "from PIL import Image\n",
    "from matplotlib import pyplot as plt\n",
    "import numpy as np\n",
    "from scipy.ndimage import generic_filter\n",
    "import statistics\n",
    "import sys\n",
    "from glob import glob\n",
    "from skimage.feature import graycomatrix, graycoprops\n",
    "from sklearn.cluster import KMeans\n",
    "from skimage.segmentation import watershed\n",
    "from skimage.feature import peak_local_max\n",
    "from scipy import ndimage as ndi\n",
    "from skimage.filters.rank.generic import threshold\n",
    "from skimage import filters \n",
    "from skimage.filters.rank import entropy\n",
    "from skimage.morphology import disk\n",
    "from pathlib import Path"
   ]
  },
  {
   "cell_type": "code",
   "execution_count": 2,
   "id": "7caae5ce",
   "metadata": {},
   "outputs": [],
   "source": [
    "sys.path.insert(1, '../utils/phasepack')\n",
    "from phasepack import phasecong\n",
    "sys.path.insert(1, '../utils/')\n",
    "from zp_detection import *\n",
    "sys.path.insert(1, '../utils/')\n",
    "from edgelkg import *"
   ]
  },
  {
   "cell_type": "markdown",
   "id": "48f4c9b1",
   "metadata": {},
   "source": [
    "## A. Blastocyst Structural Model"
   ]
  },
  {
   "cell_type": "code",
   "execution_count": 3,
   "id": "76b6ad17",
   "metadata": {},
   "outputs": [],
   "source": [
    "def regs(mask):\n",
    "    cnts,_ = cv2.findContours(mask, cv2.RETR_EXTERNAL, cv2.CHAIN_APPROX_SIMPLE)\n",
    "    M = cv2.moments(cnts[0])\n",
    "    cX = int(M[\"m10\"] / M[\"m00\"])\n",
    "    cY = int(M[\"m01\"] / M[\"m00\"])\n",
    "    r = radio(S_p(mask==255),(cX,cY))\n",
    "    reg3= mask - cv2.circle(np.zeros(mask.shape), (cX,cY), round(r*0.8), (255,0,0), -1)\n",
    "    reg2= mask - cv2.circle(np.zeros(mask.shape), (cX,cY), round(r*0.6), (255,0,0), -1) - reg3\n",
    "    reg1= mask-reg2-reg3\n",
    "    return reg1, reg2, reg3"
   ]
  },
  {
   "cell_type": "markdown",
   "id": "4bb6dd90",
   "metadata": {},
   "source": [
    "## B. Texture Analysis"
   ]
  },
  {
   "cell_type": "markdown",
   "id": "33dadf39",
   "metadata": {},
   "source": [
    "### 1. Quantitative Texture Measure"
   ]
  },
  {
   "cell_type": "markdown",
   "id": "9cfc7c4f",
   "metadata": {},
   "source": [
    "Local standard deviation, Haralick: Contrast, Local Homogeneity and Global Homogeneity"
   ]
  },
  {
   "cell_type": "code",
   "execution_count": 4,
   "id": "7911532b",
   "metadata": {},
   "outputs": [],
   "source": [
    "def local_sd(img):\n",
    "    return generic_filter(img, np.std, size=3)\n",
    "\n",
    "def levels(img, levels=9):\n",
    "    img= ((img - np.min(img)) / (np.max(img) - np.min(img)))*(levels-1)\n",
    "    return img.astype('uint8')\n",
    "\n",
    "def harlick (img,mask,N=3): #mask dtype=bool\n",
    "    comatrix=levels(img)\n",
    "    y,x=img.shape\n",
    "    contraste_final, l_hom_final, g_hom_final=np.zeros((y,x)), np.zeros((y,x)), np.zeros((y,x))\n",
    "    for i in range(1,x-1):\n",
    "        for j in range(1,y-1):\n",
    "            if mask[j,i]:\n",
    "                comat_N=graycomatrix(comatrix[j-1:j+1,i-1:i+1], [1], [0], levels=9)\n",
    "                c = graycoprops(comat_N, 'contrast')\n",
    "                l_hom = graycoprops(comat_N, 'homogeneity')\n",
    "                g_hom = graycoprops(comat_N, 'ASM')\n",
    "                contraste_final[j,i],l_hom_final[j,i], g_hom_final[j,i]=c[0][0], l_hom[0][0], g_hom[0][0]\n",
    "    return contraste_final,l_hom_final,g_hom_final"
   ]
  },
  {
   "cell_type": "code",
   "execution_count": 5,
   "id": "6a6e6c68",
   "metadata": {},
   "outputs": [],
   "source": [
    "def textures(img,mask): #mask dtype=bool\n",
    "    # LOCAL STANDARD DEVIATION\n",
    "    lsd=local_sd(img)\n",
    "    # ENTROPY\n",
    "    entr = entropy(img, disk(5))\n",
    "    # CONTRAST, LOCAL HOMOGENEITY & GLOBAL HOMOGENEITY\n",
    "    contraste,l_hom,g_hom=harlick(img,mask)\n",
    "    return lsd, entr, contraste, l_hom, g_hom"
   ]
  },
  {
   "cell_type": "markdown",
   "id": "2d444206",
   "metadata": {},
   "source": [
    "### 2. Texture Mask via K-means"
   ]
  },
  {
   "cell_type": "code",
   "execution_count": 6,
   "id": "ea210aab",
   "metadata": {},
   "outputs": [],
   "source": [
    "def kmeans(img, mask): #mask dtype= bool\n",
    "    lsd, entr, contraste, l_hom, g_hom = textures (img,mask)\n",
    "    lsd_mask,entr_mask,contr,l_hom_mask,g_hom_mask=lsd[mask],entr[mask],contraste[mask],l_hom[mask],g_hom[mask]\n",
    "    # descriptors, just considering the pixels inside the blastocyst\n",
    "    desc=np.array([[lsd_mask[k], entr_mask[k], contr[k], l_hom_mask[k], g_hom_mask[k]] for k in range(len(lsd[mask]))])\n",
    "    kmeans = KMeans(n_clusters=2, random_state=0).fit(desc)\n",
    "    texturas=kmeans.labels_+1\n",
    "    clusters=np.zeros(img.shape)\n",
    "    clusters[mask]=texturas\n",
    "    counts=list(np.unique(texturas,return_counts=True)[1])\n",
    "    # smooth cluster \n",
    "    c_smooth=counts.index(max(counts))+1\n",
    "    # textured cluster\n",
    "    c_tex=counts.index(min(counts))+1\n",
    "    return (clusters,c_tex,c_smooth)"
   ]
  },
  {
   "cell_type": "markdown",
   "id": "f4543ef6",
   "metadata": {},
   "source": [
    "### 3. Segmentation via Watershed Algorithm"
   ]
  },
  {
   "cell_type": "code",
   "execution_count": 7,
   "id": "e547d8e9",
   "metadata": {},
   "outputs": [],
   "source": [
    "def watershed_seg(img,mask): #mask dtype bool\n",
    "    thresh_nucleo=cv2.threshold(img,0,255,cv2.THRESH_BINARY+cv2.THRESH_OTSU)[1] \n",
    "    dist = ndi.distance_transform_edt(thresh_nucleo)\n",
    "    dist_visual = dist.copy()\n",
    "    local_max=peak_local_max(dist, min_distance=1, labels=thresh_nucleo)\n",
    "    mask_ = np.zeros(dist.shape, dtype=bool)\n",
    "    mask_[tuple(local_max.T)] = True\n",
    "    markers, _ = ndi.label(mask_)\n",
    "    markers = cv2.watershed(cv2.cvtColor(img,cv2.COLOR_GRAY2RGB),markers)\n",
    "    markers[mask==False]=-2\n",
    "    return markers"
   ]
  },
  {
   "cell_type": "code",
   "execution_count": 8,
   "id": "509d9e55",
   "metadata": {},
   "outputs": [],
   "source": [
    "def pc_values(img):\n",
    "    _,_,_,_,PC,_,_=phasecong(img,norient=6)\n",
    "    PC=np.array(PC)\n",
    "    y,x=img.shape\n",
    "    pc_reg=np.zeros((y,x))\n",
    "    for i in range(x):\n",
    "        for j in range(y):\n",
    "            pc_reg[j,i]=max(PC[:,j,i])\n",
    "    return pc_reg\n",
    "\n",
    "def probability(markers,pc,tex):\n",
    "    prob=np.zeros(markers.shape)\n",
    "    for i in range(np.unique(markers)[-1]):\n",
    "        prob[markers==i]=sum(pc[np.logical_and(markers==i,tex)])/sum(sum(markers==i))\n",
    "    return prob"
   ]
  },
  {
   "cell_type": "code",
   "execution_count": 9,
   "id": "34ae464a",
   "metadata": {},
   "outputs": [],
   "source": [
    "def region_classification(tex,smth,markers,pc,prob):\n",
    "    #tex --> mask cluster texture\n",
    "    #smooth --> mask cluster smooth\n",
    "    textured,smooth=np.full(markers.shape,False),np.full(markers.shape,False)\n",
    "    m1,s1=np.mean(pc[tex]),np.std(pc[tex])\n",
    "    m2,s2=np.mean(pc[smth]),np.std(pc[smth])\n",
    "    textured = prob>m1-s1\n",
    "    smooth = prob< m2+s2\n",
    "    smooth[markers==-1]=False\n",
    "    smooth[markers==-2]=False\n",
    "    return (m1,m2,textured,smooth)"
   ]
  },
  {
   "cell_type": "markdown",
   "id": "723ff916",
   "metadata": {},
   "source": [
    "### Pipeline Texture Analysis"
   ]
  },
  {
   "cell_type": "code",
   "execution_count": 10,
   "id": "e40c8200",
   "metadata": {},
   "outputs": [],
   "source": [
    "def texture_analysis(img, mask):\n",
    "    mask=mask==255\n",
    "    lsd, entr, contraste, l_hom, g_hom = textures (img,mask)\n",
    "    clusters,c_tex,c_smooth = kmeans(img, mask)\n",
    "    cluster_tex=cv2.dilate(255*(clusters==c_tex).astype('uint8'),np.ones((3,3)))\n",
    "    cluster_smth=cv2.erode(255*(clusters==c_smooth).astype('uint8'),np.ones((3,3)))\n",
    "    markers=watershed_seg(img,mask)\n",
    "    pc=pc_values(img)\n",
    "    prob=probability(markers,pc,cluster_tex==255)\n",
    "    m1,m2,textured,smooth = region_classification(cluster_tex==255,cluster_smth==255,markers,pc,prob)\n",
    "    return markers,pc,prob,m1,m2,textured,smooth"
   ]
  },
  {
   "cell_type": "markdown",
   "id": "50e25463",
   "metadata": {},
   "source": [
    "## C. Blastocyst Component Identification\n",
    "### 1. ICM and TE Regions Initialization\n",
    "#### 1.1. Blastocyst Region Seed Identification"
   ]
  },
  {
   "cell_type": "code",
   "execution_count": 11,
   "id": "78fa52d5",
   "metadata": {},
   "outputs": [],
   "source": [
    "def seed(reg,markers,clase):\n",
    "    s=np.zeros(markers.shape,dtype='uint8')\n",
    "    s[clase]=reg[clase]\n",
    "    for i in np.unique(markers[s==255]):\n",
    "        if np.count_nonzero(s[markers==i]) > np.count_nonzero(markers==i)*0.8:\n",
    "            s[markers==i]=255\n",
    "    return cv2.morphologyEx(s, cv2.MORPH_CLOSE, np.ones((3,3)))"
   ]
  },
  {
   "cell_type": "markdown",
   "id": "a0ee49d5",
   "metadata": {},
   "source": [
    "#### 1.2. Region Merging and Classification"
   ]
  },
  {
   "cell_type": "code",
   "execution_count": 12,
   "id": "bc4c9e5a",
   "metadata": {},
   "outputs": [],
   "source": [
    "def strong_weak_bound(pc, markers_seed):\n",
    "    #returns midpoint between strong and weak boundaries\n",
    "    th_b=np.zeros(pc.shape)\n",
    "    th_solo_pc=cv2.threshold(equalize(pc[markers_seed==-1]),0,255,cv2.THRESH_BINARY+cv2.THRESH_OTSU)[1] \n",
    "    th_b[markers_seed==-1]=th_solo_pc.flatten()\n",
    "    return (np.mean(pc[th_b==255])+ np.mean(pc[th_b==0]))/2\n",
    "\n",
    "def merging(dic,m1,m2,markers_seed,pc,prob):\n",
    "    mid = strong_weak_bound(pc, markers_seed)\n",
    "    for el in dic:\n",
    "        val=np.mean(pc[markers_seed==dic[el]['idx']])\n",
    "        nh=[n for n in np.unique(markers_seed[dic[el]['reg']==255]) if n>=0]\n",
    "        for i in nh:\n",
    "            p=prob[markers_seed==i][0]\n",
    "            #condicion 1\n",
    "            if abs(p-val) < (m1+m2)/2:\n",
    "            #condicion 2\n",
    "                trocito= cv2.dilate(255*(markers_seed==i).astype('uint8'), np.ones((5,5)))\n",
    "                if dic[el]['idx'] in markers_seed[trocito==255]:\n",
    "                    semilla = cv2.dilate(255*(markers_seed==dic[el]['idx']).astype('uint8'), np.ones((5,5)))\n",
    "                    borde = cv2.bitwise_and(trocito,semilla)\n",
    "                    borde = np.logical_and(borde==255, markers_seed==-1)\n",
    "                    if np.mean(pc[borde]) < mid :\n",
    "                        markers_seed[markers_seed==i]=dic[el]['idx'] \n",
    "                        markers_seed[borde]=dic[el]['idx'] \n",
    "    return markers_seed"
   ]
  },
  {
   "cell_type": "code",
   "execution_count": 13,
   "id": "12c18b5a",
   "metadata": {},
   "outputs": [],
   "source": [
    "def seed_merging(markers,textured,m1,m2,pc,prob,dic):\n",
    "    TE=seed(dic['TE']['reg'],markers,textured)\n",
    "    ICM=seed(dic['ICM']['reg'],markers,textured)\n",
    "    markers_seed= markers.copy()\n",
    "    markers_seed[TE==255]=dic['TE']['idx']\n",
    "    markers_seed[ICM==255]=dic['ICM']['idx']\n",
    "    markers_seed=merging(dic,m1,m2,markers_seed,pc,prob)\n",
    "    return markers_seed"
   ]
  },
  {
   "cell_type": "markdown",
   "id": "a6754517",
   "metadata": {},
   "source": [
    "### TE Segmentation"
   ]
  },
  {
   "cell_type": "code",
   "execution_count": 14,
   "id": "acd20172",
   "metadata": {},
   "outputs": [],
   "source": [
    "def dark_reg(img,mask,reg2,reg3, markers_seed, pc):\n",
    "    # All points between the dark edges and the inner ZP are TE\n",
    "    TE=255*(markers_seed==-3).astype('uint8')\n",
    "    dilated_mask=dilating(mask,7)\n",
    "    zp=dilated_mask-mask\n",
    "    TE_zp=TE+zp\n",
    "    # cond 1\n",
    "    points_te=255* np.logical_and(reg2+reg3==255, img < np.mean(img[TE==255])).astype('uint8')\n",
    "    _, labels = cv2.connectedComponents(points_te+TE_zp)\n",
    "    # cond 2\n",
    "    cond1=255*(labels==labels[points_te==255][0]).astype('uint8')\n",
    "    cond1[cond1==255]=255*(pc[cond1==255] > np.mean(pc[TE==255])).astype('uint8')\n",
    "    _, labels = cv2.connectedComponents(TE_zp+cond1)\n",
    "    return labels==labels[TE_zp==255][0]"
   ]
  },
  {
   "cell_type": "code",
   "execution_count": 15,
   "id": "e4b0c2b0",
   "metadata": {},
   "outputs": [],
   "source": [
    "def edge_linking(gray_img):\n",
    "    # Convert the gray_img to gray\n",
    "    kernel_size = 7                                        # Kernel size for the Gaussian Blur\n",
    "    blur_gray = cv2.GaussianBlur(gray_img, (kernel_size, kernel_size), 2)\n",
    "    low_threshold = 35                                     # Low threshold for Canny edge\n",
    "    high_threshold = 60                                    # High threshold for Canny edge\n",
    "    edges = cv2.Canny(blur_gray, low_threshold, high_threshold)\n",
    "    A = edgelink(edges, 200)                               # 200 means nothing here. Don't mind it.\n",
    "    A.get_edgelist()\n",
    "    edgelist = A.edgelist\n",
    "    etype = A.etype\n",
    "    nedgelist = cleanedgelist(edgelist.copy(), 20)\n",
    "    tol = 4\n",
    "    sedgelist = seglist(nedgelist, tol)                    # Extract critical points of each edge class\n",
    "    fedgelist = cleanedgelist(sedgelist.copy(), 20)\n",
    "    return nedgelist\n",
    "\n",
    "def edge_map(img,mask,reg2,reg3, markers_seed,pc):\n",
    "    candidatos=255*dark_reg(img,mask,reg2,reg3, markers_seed,pc).astype('uint8')\n",
    "    TE=255*(markers_seed==-3).astype('uint8')\n",
    "    candidatos[mask==0]=0\n",
    "    edge_list=edge_linking(candidatos)\n",
    "    edg=np.zeros(img.shape,'uint8')\n",
    "    Nedge=len(edge_list)\n",
    "    for idx in range(Nedge):\n",
    "        edg[edge_list[idx][:, 0],edge_list[idx][:, 1]]=255\n",
    "    num_labels, labels = cv2.connectedComponents(edg)\n",
    "    points=np.zeros(labels.shape,'uint8')\n",
    "    region=dilating(TE,3)\n",
    "    for i in range(1,num_labels): \n",
    "        if sum(sum(np.logical_and(region==255, labels==i))) >0:\n",
    "            points[labels==i]=255\n",
    "    return cv2.bitwise_or(candidatos,points)"
   ]
  },
  {
   "cell_type": "code",
   "execution_count": 16,
   "id": "4bba8012",
   "metadata": {},
   "outputs": [],
   "source": [
    "def te_segmentation(img,mask,reg2,reg3, markers_seed,pc):\n",
    "    te=edge_map(img,mask,reg2,reg3, markers_seed,pc)\n",
    "    zp=dilating(mask,7)-mask\n",
    "    te=te+zp\n",
    "    closing = cv2.morphologyEx(te, cv2.MORPH_CLOSE, np.ones((5,5)))\n",
    "    peri=closing - cv2.erode(closing,np.ones((3,3))) \n",
    "    _, labels = cv2.connectedComponents(peri)\n",
    "    count=list(np.unique(labels,return_counts=True)[1])\n",
    "    ar= count.copy()\n",
    "    ar.sort() \n",
    "    edges=255*(labels==count.index(ar[-2])).astype('uint8')\n",
    "    edges[mask==0]=0\n",
    "    return edges"
   ]
  },
  {
   "cell_type": "markdown",
   "id": "e2e5e1cf",
   "metadata": {},
   "source": [
    "## Pipeline"
   ]
  },
  {
   "cell_type": "code",
   "execution_count": 17,
   "id": "373dcb07",
   "metadata": {},
   "outputs": [],
   "source": [
    "def te_pipeline(img,mask,markers_seed, pc):\n",
    "    reg1, reg2, reg3 = regs(mask)\n",
    "    te_edges=te_segmentation(img,mask,reg2,reg3, markers_seed, pc)\n",
    "    inner_line=dilating(mask)-mask\n",
    "    _, labels = cv2.connectedComponents(255-te_edges-inner_line)\n",
    "    idx=statistics.mode(labels[reg1==255])\n",
    "    return 255*np.logical_xor(labels==idx, mask==255).astype('uint8')"
   ]
  },
  {
   "cell_type": "markdown",
   "id": "60a3d7d7",
   "metadata": {},
   "source": [
    "### ICM Segmentation"
   ]
  },
  {
   "cell_type": "code",
   "execution_count": 18,
   "id": "0ac776ac",
   "metadata": {},
   "outputs": [],
   "source": [
    "def icm_pipeline(te_edges, markers_seed, mask, pc, m1,m2, textured):\n",
    "    i_mass=cv2.bitwise_and(255 - te_edges, mask)\n",
    "    if np.unique(markers_seed==-4).shape[0]==1:\n",
    "        not_te=cv2.bitwise_not(te_edges)\n",
    "        markers_seed[np.logical_and(not_te==255, textured)]=-4\n",
    "    if np.unique(markers_seed==-4).shape[0]==1:\n",
    "        return i_mass\n",
    "    markers_seed[ndimage.binary_fill_holes(markers_seed==-4)]=-4\n",
    "    markers_seed[i_mass==0]=-2\n",
    "    val=np.mean(pc[markers_seed==-4])\n",
    "    ant=np.full(mask.shape,False)\n",
    "    k=0\n",
    "    while sum(sum(np.logical_xor(ant,markers_seed==-4)))!=0 and k<20:\n",
    "        k+=1\n",
    "        ant=(markers_seed==-4).copy()\n",
    "        for i in [x for x in np.unique(markers_seed[i_mass==255]) if x>=0]:\n",
    "            if abs(np.mean(pc[markers_seed==i]) - val) < (m1-m2)/2:\n",
    "                mascara=dilating(255*(markers_seed==i).astype('uint8'),5)\n",
    "                if -4 in markers_seed[mascara==255]:\n",
    "                    #markers_seed[markers_seed==i]=-4  \n",
    "                    markers_seed[mascara==255]=-4 \n",
    "                    markers_seed[ndimage.binary_fill_holes(markers_seed==-4)]=-4\n",
    "    icm=255*(markers_seed==-4).astype('uint8')\n",
    "    icm=cv2.erode(icm, np.ones((3,3)))\n",
    "    icm_peri=dilating(icm)-icm\n",
    "    _, labels = cv2.connectedComponents(255- icm_peri)\n",
    "    idx=statistics.mode(labels[markers_seed==-4])\n",
    "    return 255*(labels==idx).astype('uint8')"
   ]
  },
  {
   "cell_type": "markdown",
   "id": "4e2983fd",
   "metadata": {},
   "source": [
    "# PIPELINE"
   ]
  },
  {
   "cell_type": "code",
   "execution_count": 19,
   "id": "f6a03822",
   "metadata": {},
   "outputs": [],
   "source": [
    "def pipeline(path):\n",
    "    img=cv2.imread(path, cv2.IMREAD_GRAYSCALE)\n",
    "    mask=innerModel(path)\n",
    "    img[mask==0]=0\n",
    "    img=cv2.equalizeHist(img)\n",
    "    reg1, reg2, reg3 = regs(mask)\n",
    "    markers,pc,prob,m1,m2,textured,smooth = texture_analysis(img, mask)\n",
    "    dic={'TE':{'idx':-3,'reg':reg3,'tex':textured}, 'ICM':{'idx':-4, 'reg':reg1,'tex':textured}}\n",
    "    markers_seed=seed_merging(markers,textured,m1,m2,pc,prob,dic)\n",
    "    te  =te_pipeline(img,mask,markers_seed, pc)\n",
    "    icm =icm_pipeline(te, markers_seed, mask,pc,m1,m2,textured)\n",
    "    return te,icm"
   ]
  },
  {
   "cell_type": "markdown",
   "id": "f9286ee5",
   "metadata": {},
   "source": [
    "# METRICS"
   ]
  },
  {
   "cell_type": "code",
   "execution_count": 16,
   "id": "ffc72664",
   "metadata": {},
   "outputs": [],
   "source": [
    "def accuracy(target, prediction):\n",
    "    true_detec = np.logical_not(np.logical_xor(target, prediction))\n",
    "    return np.sum(true_detec)/np.sum(np.ones_like(target))\n",
    "\n",
    "def precision(target, prediction):\n",
    "    intersection = np.logical_and(target, prediction)\n",
    "    return np.sum(intersection)/np.sum(prediction)\n",
    "\n",
    "def recall(target, prediction):\n",
    "    intersection = np.logical_and(target, prediction)\n",
    "    return np.sum(intersection)/np.sum(target)\n",
    "\n",
    "def jaccard(target, prediction):\n",
    "    intersection = np.logical_and(target, prediction)\n",
    "    union = np.logical_or(target, prediction)\n",
    "    return np.sum(intersection) / np.sum(union)\n",
    "\n",
    "def dice(target, prediction):\n",
    "    intersection = np.logical_and(target, prediction)\n",
    "    return 2*np.sum(intersection) / (np.sum(target) + np.sum(prediction))\n",
    "\n",
    "def metrics(target, prediction):\n",
    "    return {'accuracy': accuracy(target, prediction),\n",
    "            'precision': precision(target, prediction),\n",
    "            'recall': recall(target, prediction),\n",
    "            'specificity': recall(1-target,1- prediction),\n",
    "            'jaccard':jaccard(target, prediction),\n",
    "            'dice': dice(target, prediction)}\n",
    "\n",
    "def summary_metrics(y_test,predictions):\n",
    "    a,p,r,s,j,d=0.,0.,0.,0.,0.,0.\n",
    "    n=len(predictions)\n",
    "    for i in range(n):\n",
    "        preds= predictions[i]\n",
    "        gt= y_test[i]\n",
    "        metricas=metrics(gt==255,preds==255)\n",
    "        a+=metricas['accuracy']\n",
    "        p+=metricas['precision']\n",
    "        r+=metricas['recall']\n",
    "        s+=metricas['specificity']\n",
    "        j+=metricas['jaccard']\n",
    "        d+=metricas['dice']\n",
    "    return {'accuracy': a/n,\n",
    "            'precision': p/n,\n",
    "            'recall': r/n,\n",
    "            'specificity': s/n,\n",
    "            'jaccard':j/n,\n",
    "            'dice': d/n}"
   ]
  },
  {
   "cell_type": "code",
   "execution_count": 21,
   "id": "bc26b039",
   "metadata": {},
   "outputs": [],
   "source": [
    "def getGT(path,str,path_gt):\n",
    "    path_gt_file=path_gt+ 'GT_{}/'.format(str) +path.split('/')[-1].split('.BMP')[0]+' {}_Mask.bmp'.format(str)\n",
    "    return cv2.imread(path_gt_file,cv2.IMREAD_GRAYSCALE)"
   ]
  },
  {
   "cell_type": "markdown",
   "id": "37338f83",
   "metadata": {},
   "source": [
    "# Evaluation"
   ]
  },
  {
   "cell_type": "code",
   "execution_count": 22,
   "id": "b9363c9c",
   "metadata": {},
   "outputs": [],
   "source": [
    "path='../dataset/test/'\n",
    "path_gt='../dataset/'\n",
    "files=[path+f for f in os.listdir(path)]"
   ]
  },
  {
   "cell_type": "code",
   "execution_count": 23,
   "id": "f79997de",
   "metadata": {},
   "outputs": [],
   "source": [
    "gtruth_te=[getGT(path,'TE',path_gt) for path in files]\n",
    "gtruth_icm=[getGT(path,'ICM',path_gt) for path in files]"
   ]
  },
  {
   "cell_type": "markdown",
   "id": "d55fe31f",
   "metadata": {},
   "source": [
    "### Prediction"
   ]
  },
  {
   "cell_type": "code",
   "execution_count": 24,
   "id": "a1f8a8d4",
   "metadata": {},
   "outputs": [],
   "source": [
    "te,icm = pipeline(files[0])"
   ]
  },
  {
   "cell_type": "code",
   "execution_count": 25,
   "id": "5cd455df",
   "metadata": {},
   "outputs": [
    {
     "data": {
      "text/plain": [
       "<matplotlib.image.AxesImage at 0x1cfd8aecdf0>"
      ]
     },
     "execution_count": 25,
     "metadata": {},
     "output_type": "execute_result"
    },
    {
     "data": {
      "image/png": "[encoded data removed]",
      "text/plain": [
       "<Figure size 640x480 with 1 Axes>"
      ]
     },
     "metadata": {},
     "output_type": "display_data"
    }
   ],
   "source": [
    "plt.imshow(te)"
   ]
  },
  {
   "cell_type": "code",
   "execution_count": 26,
   "id": "902432b8",
   "metadata": {},
   "outputs": [],
   "source": [
    "pred_te,pred_icm=[],[]\n",
    "for path in files:\n",
    "    te,icm = pipeline(path)\n",
    "    pred_te.append(te)\n",
    "    pred_icm.append(icm)"
   ]
  },
  {
   "cell_type": "code",
   "execution_count": 28,
   "id": "735f647c",
   "metadata": {},
   "outputs": [
    {
     "data": {
      "text/plain": [
       "{'accuracy': 0.9159675160480817,\n",
       " 'precision': 0.5881564295863893,\n",
       " 'recall': 0.8946447928664762,\n",
       " 'specificity': 0.9195132865387947,\n",
       " 'jaccard': 0.5455586547684564,\n",
       " 'dice': 0.7005932865159847}"
      ]
     },
     "execution_count": 28,
     "metadata": {},
     "output_type": "execute_result"
    }
   ],
   "source": [
    "summary_metrics(gtruth_te,pred_te)"
   ]
  },
  {
   "cell_type": "code",
   "execution_count": 29,
   "id": "14fb0e1c",
   "metadata": {},
   "outputs": [
    {
     "data": {
      "text/plain": [
       "{'accuracy': 0.9478805175085067,\n",
       " 'precision': 0.6821848868976766,\n",
       " 'recall': 0.6469625270651056,\n",
       " 'specificity': 0.9725152995345732,\n",
       " 'jaccard': 0.48917330593837943,\n",
       " 'dice': 0.6342700942761716}"
      ]
     },
     "execution_count": 29,
     "metadata": {},
     "output_type": "execute_result"
    }
   ],
   "source": [
    "summary_metrics(gtruth_icm,pred_icm)"
   ]
  },
  {
   "cell_type": "markdown",
   "id": "7ab67cd2",
   "metadata": {},
   "source": [
    "## Save predictions (ZP, TE, ICM) Saeedi dataset"
   ]
  },
  {
   "cell_type": "code",
   "execution_count": null,
   "id": "0aad91ba",
   "metadata": {},
   "outputs": [],
   "source": [
    "pred_te,pred_icm,zp=[],[],[]\n",
    "for path in files:\n",
    "    te,icm = pipeline(path)\n",
    "    pred_te.append(te)\n",
    "    pred_icm.append(icm)\n",
    "    zp.append(zp_model(path))"
   ]
  },
  {
   "cell_type": "code",
   "execution_count": 49,
   "id": "95226e4a",
   "metadata": {},
   "outputs": [],
   "source": [
    "save_path=\"image_processing/\"\n",
    "os.mkdir(save_path)\n",
    "i=0\n",
    "for f in files:\n",
    "    f=Path(f)\n",
    "    cv2.imwrite(save_path+f.name, pred_te[i]+150*(pred_icm[i]/255)+75*(zp[i]/255))\n",
    "    i+=1"
   ]
  },
  {
   "cell_type": "markdown",
   "id": "9e9ed8ea",
   "metadata": {},
   "source": [
    "# INFERENCE"
   ]
  },
  {
   "cell_type": "code",
   "execution_count": 21,
   "id": "d744e6d2",
   "metadata": {},
   "outputs": [],
   "source": [
    "path='../img.png'\n",
    "te,icm = pipeline(path)"
   ]
  },
  {
   "cell_type": "code",
   "execution_count": 22,
   "id": "9600545a",
   "metadata": {},
   "outputs": [
    {
     "data": {
      "text/plain": [
       "<matplotlib.image.AxesImage at 0x22ec5b62c80>"
      ]
     },
     "execution_count": 22,
     "metadata": {},
     "output_type": "execute_result"
    },
    {
     "data": {
      "image/png": "[encoded data removed]",
      "text/plain": [
       "<Figure size 640x480 with 1 Axes>"
      ]
     },
     "metadata": {},
     "output_type": "display_data"
    }
   ],
   "source": [
    "plt.imshow(te)"
   ]
  },
  {
   "cell_type": "code",
   "execution_count": 23,
   "id": "6f81d5e9",
   "metadata": {},
   "outputs": [
    {
     "data": {
      "text/plain": [
       "<matplotlib.image.AxesImage at 0x22ec5bd9d80>"
      ]
     },
     "execution_count": 23,
     "metadata": {},
     "output_type": "execute_result"
    },
    {
     "data": {
      "image/png": "[encoded data removed]",
      "text/plain": [
       "<Figure size 640x480 with 1 Axes>"
      ]
     },
     "metadata": {},
     "output_type": "display_data"
    }
   ],
   "source": [
    "plt.imshow(icm)"
   ]
  },
  {
   "cell_type": "code",
   "execution_count": null,
   "id": "3156c862",
   "metadata": {},
   "outputs": [],
   "source": []
  }
 ],
 "metadata": {
  "kernelspec": {
   "display_name": "Python 3 (ipykernel)",
   "language": "python",
   "name": "python3"
  },
  "language_info": {
   "codemirror_mode": {
    "name": "ipython",
    "version": 3
   },
   "file_extension": ".py",
   "mimetype": "text/x-python",
   "name": "python",
   "nbconvert_exporter": "python",
   "pygments_lexer": "ipython3",
   "version": "3.10.9"
  }
 },
 "nbformat": 4,
 "nbformat_minor": 5
}
