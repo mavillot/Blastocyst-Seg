{
 "cells": [
  {
   "cell_type": "code",
   "execution_count": 41,
   "metadata": {
    "id": "4Eh8p9xfzS_L"
   },
   "outputs": [],
   "source": [
    "import tensorflow as tf\n",
    "import numpy as np\n",
    "from keras.models import Model\n",
    "from keras.layers import Input, Conv2D, MaxPooling2D, UpSampling2D, concatenate, Conv2DTranspose, BatchNormalization, Dropout, Lambda\n",
    "from tensorflow.keras.optimizers import Adam\n",
    "from keras.layers import Activation, MaxPool2D, Concatenate\n",
    "from keras.losses import BinaryCrossentropy\n",
    "from keras.metrics import MeanIoU\n",
    "from keras.callbacks import EarlyStopping, ModelCheckpoint, ReduceLROnPlateau\n",
    "from pathlib import Path\n",
    "import os\n",
    "import cv2\n",
    "import imutils\n",
    "from sklearn.model_selection import train_test_split\n",
    "from sklearn.utils import shuffle\n",
    "import matplotlib.pyplot as plt"
   ]
  },
  {
   "cell_type": "code",
   "execution_count": 42,
   "metadata": {},
   "outputs": [
    {
     "name": "stdout",
     "output_type": "stream",
     "text": [
      "[PhysicalDevice(name='/physical_device:GPU:0', device_type='GPU')]\n"
     ]
    }
   ],
   "source": [
    "print(tf.config.list_physical_devices('GPU'))"
   ]
  },
  {
   "cell_type": "markdown",
   "metadata": {},
   "source": [
    "# Dataset "
   ]
  },
  {
   "cell_type": "code",
   "execution_count": 43,
   "metadata": {},
   "outputs": [],
   "source": [
    "path=Path('../dataset')\n",
    "path_train=path/'train'\n",
    "path_test=path/'test'\n",
    "path_gt=path/'GT_TE'\n",
    "path_model=Path('../models/models')"
   ]
  },
  {
   "cell_type": "markdown",
   "metadata": {},
   "source": [
    "### Load dataset"
   ]
  },
  {
   "cell_type": "code",
   "execution_count": 44,
   "metadata": {},
   "outputs": [],
   "source": [
    "dim=(256,256)\n",
    "def load_imgs(path, path_gt=''):\n",
    "    files=[path/f for f in os.listdir(path)]\n",
    "    x = np.array([cv2.resize(cv2.imread(str(f),cv2.IMREAD_GRAYSCALE), dim) for f in files])\n",
    "    if path_gt == '':\n",
    "        y=None\n",
    "    else:\n",
    "        y = np.array([cv2.threshold(cv2.resize(cv2.imread(str(path_gt/(f.stem+' TE_Mask.bmp')),cv2.IMREAD_GRAYSCALE), dim),127,255,cv2.THRESH_BINARY)[1] for f in files])\n",
    "    return x,y"
   ]
  },
  {
   "cell_type": "code",
   "execution_count": 45,
   "metadata": {
    "scrolled": false
   },
   "outputs": [],
   "source": [
    "x_train, y_train = load_imgs(path_train, path_gt)\n",
    "x_test, y_test = load_imgs(path_test, path_gt)"
   ]
  },
  {
   "cell_type": "markdown",
   "metadata": {},
   "source": [
    "### Standard normalization "
   ]
  },
  {
   "cell_type": "code",
   "execution_count": 46,
   "metadata": {},
   "outputs": [],
   "source": [
    "def std_norm(x):\n",
    "    mean, std= np.mean(x, axis=0), np.std(x, axis=0) \n",
    "    return ((x.astype('float32') - mean) / std , mean, std)"
   ]
  },
  {
   "cell_type": "code",
   "execution_count": 47,
   "metadata": {},
   "outputs": [],
   "source": [
    "def std_norm_test(x,mean,std):\n",
    "    return (x.astype('float32') - mean) / std"
   ]
  },
  {
   "cell_type": "code",
   "execution_count": 48,
   "metadata": {},
   "outputs": [],
   "source": [
    "x_train, mean, std = std_norm(x_train)\n",
    "x_test = std_norm_test(x_test, mean, std)"
   ]
  },
  {
   "cell_type": "markdown",
   "metadata": {},
   "source": [
    "### Data augmentation"
   ]
  },
  {
   "cell_type": "code",
   "execution_count": 49,
   "metadata": {},
   "outputs": [],
   "source": [
    "def data_augmentation(x_train, y_train):\n",
    "    x_train_augmented, y_train_augmented=[], []\n",
    "    for k in range(len(x_train)):\n",
    "        img=x_train[k]\n",
    "        mask=y_train[k]\n",
    "        for i in range(37):\n",
    "            x_train_augmented.append(imutils.rotate(img, angle=10*i))\n",
    "            y_train_augmented.append(imutils.rotate(mask, angle=10*i))\n",
    "    return np.array(x_train_augmented), np.array(y_train_augmented)"
   ]
  },
  {
   "cell_type": "code",
   "execution_count": 50,
   "metadata": {},
   "outputs": [],
   "source": [
    "x_train, y_train = data_augmentation(x_train, y_train)\n",
    "\n",
    "x_train = x_train.astype(\"float32\") \n",
    "y_train = y_train.astype(\"float32\")/255  \n",
    "\n",
    "x_test = x_test.astype(\"float32\") \n",
    "y_test = y_test.astype(\"float32\")/255  "
   ]
  },
  {
   "cell_type": "markdown",
   "metadata": {},
   "source": [
    "### Randomize data"
   ]
  },
  {
   "cell_type": "code",
   "execution_count": 51,
   "metadata": {},
   "outputs": [],
   "source": [
    "x_train, y_train = shuffle(x_train, y_train, random_state=13)"
   ]
  },
  {
   "cell_type": "code",
   "execution_count": 52,
   "metadata": {},
   "outputs": [],
   "source": [
    "dropout_idx=0.05"
   ]
  },
  {
   "cell_type": "markdown",
   "metadata": {},
   "source": [
    "# Model"
   ]
  },
  {
   "cell_type": "code",
   "execution_count": 13,
   "metadata": {
    "id": "bS_Ch-J5zw66"
   },
   "outputs": [],
   "source": [
    "def conv_block(input, num_filters):\n",
    "    x = Conv2D(num_filters, 3, padding=\"same\", activation='relu')(input)\n",
    "    x = Dropout(dropout_idx) (x)\n",
    "    x = Conv2D(num_filters, 3, padding=\"same\", activation='relu')(x)\n",
    "    x = Dropout(dropout_idx) (x)\n",
    "    return x\n",
    "\n",
    "#Encoder block: Conv block followed by maxpooling and residual block\n",
    "\n",
    "def encoder_block(input, num_filters):\n",
    "    x = conv_block(input, num_filters) # convolutional block\n",
    "    x = BatchNormalization()(x)\n",
    "    input = Conv2D(num_filters, 1, padding=\"same\")(input)\n",
    "    transfer = tf.math.add(x,input)\n",
    "    p = MaxPool2D(2)(transfer) #subsampling block  \n",
    "    p = Activation(\"relu\")(p)\n",
    "    return x, p  \n",
    "\n",
    "\n",
    "#Bottleneck block: 4 dilaten convolution layers\n",
    "\n",
    "def bottleneck_block(input, num_filters):\n",
    "    x1 = Conv2D(num_filters, 3, dilation_rate=1,  padding=\"same\" )(input)\n",
    "    x1 =  Dropout(dropout_idx) (x1)\n",
    "    x2 = Conv2D(num_filters, 3, dilation_rate=2, padding=\"same\" )(x1)\n",
    "    x2 =  Dropout(dropout_idx) (x2)\n",
    "    x3 = Conv2D(num_filters, 3, dilation_rate=4, padding=\"same\" )(x2)\n",
    "    x3 =  Dropout(dropout_idx) (x3)\n",
    "    x4 = Conv2D(num_filters, 3, dilation_rate=8, padding=\"same\" )(x3)\n",
    "    x4 =  Dropout(dropout_idx) (x4)\n",
    "    c = Concatenate(axis=3)([x1, x2, x3, x4])\n",
    "    x = Conv2D(num_filters, 3, padding=\"same\", activation='relu')(c)\n",
    "    x = Dropout(dropout_idx) (x)\n",
    "    return  x\n",
    "\n",
    "\n",
    "#Decoder block\n",
    "#skip features gets input from encoder for concatenation\n",
    "\n",
    "def decoder_block(input, skip_features, num_filters):\n",
    "    x = UpSampling2D(size=2)(input)\n",
    "    x = BatchNormalization()(x) \n",
    "    x1 = Concatenate(axis=3)([x, skip_features])\n",
    "      \n",
    "    x = Conv2D(num_filters, 3, padding=\"same\", activation='relu')(x1)\n",
    "    x = Dropout(dropout_idx) (x)\n",
    "    x = Conv2D(num_filters, 3, padding=\"same\", activation='relu')(x)\n",
    "    x = Dropout(dropout_idx) (x)\n",
    "    x1 = Conv2D(num_filters, 1, padding=\"same\")(x1)\n",
    "    return tf.math.add(x,x1)\n",
    "\n",
    "#Build Unet using the blocks\n",
    "def build_unet(input_shape):\n",
    "    inputs = Input(input_shape)\n",
    "\n",
    "    s1, p1 = encoder_block(inputs, 16)\n",
    "    s2, p2 = encoder_block(p1, 32)\n",
    "    s3, p3 = encoder_block(p2, 64)\n",
    "    s4, p4 = encoder_block(p3, 128)\n",
    "\n",
    "    b1   = bottleneck_block(p4, 128) #Bridge\n",
    "\n",
    "    d1 = decoder_block(b1, s4, 128)\n",
    "    d2 = decoder_block(d1, s3, 64)\n",
    "    d3 = decoder_block(d2, s2, 32)\n",
    "    d4 = decoder_block(d3, s1, 16)\n",
    "\n",
    "    outputs = Conv2D(1, 1, padding=\"same\", activation=\"sigmoid\")(d4)  \n",
    "    model = Model(inputs, outputs, name=\"U-Net\")\n",
    "    return model"
   ]
  },
  {
   "cell_type": "code",
   "execution_count": 14,
   "metadata": {
    "id": "rc-JxxMtCZdt"
   },
   "outputs": [],
   "source": [
    "model= build_unet(input_shape=(256,256,1))"
   ]
  },
  {
   "cell_type": "markdown",
   "metadata": {},
   "source": [
    "### Loss function"
   ]
  },
  {
   "cell_type": "code",
   "execution_count": 53,
   "metadata": {},
   "outputs": [],
   "source": [
    "def jaccard_index(y_true, y_pred):\n",
    "    \"\"\" Calculates mean of Jaccard index as a loss function \"\"\"\n",
    "    intersection = tf.reduce_sum(y_true * y_pred, axis=(1,2))\n",
    "    sum_ = tf.reduce_sum(y_true + y_pred, axis=(1,2))\n",
    "    jac = (intersection) / (sum_ - intersection)\n",
    "    return tf.reduce_mean(jac)\n",
    "\n",
    "def my_loss_fn(y_true, y_pred):\n",
    "    return BinaryCrossentropy(from_logits=True)(y_true, y_pred)-tf.math.log(jaccard_index(y_true, y_pred))"
   ]
  },
  {
   "cell_type": "code",
   "execution_count": 16,
   "metadata": {
    "id": "ZxFCHCicEjnu"
   },
   "outputs": [],
   "source": [
    "model.compile(\n",
    "    optimizer=Adam(learning_rate=0.0001),\n",
    "    # Loss function to minimize\n",
    "    loss=my_loss_fn,\n",
    "    # List of metrics to monitor\n",
    "    metrics=[jaccard_index])"
   ]
  },
  {
   "cell_type": "code",
   "execution_count": 17,
   "metadata": {
    "id": "6WTbcZzgEmO2"
   },
   "outputs": [],
   "source": [
    "callbacks = [\n",
    "    EarlyStopping(patience=15),\n",
    "    ModelCheckpoint(filepath=path_models/'models/model.{epoch:02d}-{val_loss:.2f}.h5'),\n",
    "    ReduceLROnPlateau(factor=0.05, patience=5)]"
   ]
  },
  {
   "cell_type": "code",
   "execution_count": 18,
   "metadata": {},
   "outputs": [],
   "source": [
    "from tensorflow.keras.utils import Sequence\n",
    "class DataGenerator(Sequence):\n",
    "    def __init__(self, x_set, y_set, batch_size):\n",
    "        self.x, self.y = x_set, y_set\n",
    "        self.batch_size = batch_size\n",
    "\n",
    "    def __len__(self):\n",
    "        return int(np.ceil(len(self.x) / float(self.batch_size)))\n",
    "\n",
    "    def __getitem__(self, idx):\n",
    "        batch_x = self.x[idx * self.batch_size:(idx + 1) * self.batch_size]\n",
    "        batch_y = self.y[idx * self.batch_size:(idx + 1) * self.batch_size]\n",
    "        batch_x, batch_y=shuffle(batch_x, batch_y, random_state=1)\n",
    "        return batch_x, batch_y"
   ]
  },
  {
   "cell_type": "markdown",
   "metadata": {},
   "source": [
    "### Training"
   ]
  },
  {
   "cell_type": "code",
   "execution_count": 18,
   "metadata": {
    "id": "sg8x9VRKingr",
    "scrolled": true
   },
   "outputs": [
    {
     "name": "stdout",
     "output_type": "stream",
     "text": [
      "Epoch 1/200\n",
      "488/488 [==============================] - 94s 174ms/step - loss: 1.2473 - jaccard_index: 0.5915 - val_loss: 1.1309 - val_jaccard_index: 0.6306\n",
      "Epoch 2/200\n",
      "488/488 [==============================] - 79s 162ms/step - loss: 1.0237 - jaccard_index: 0.7036 - val_loss: 1.0324 - val_jaccard_index: 0.6938\n",
      "Epoch 3/200\n",
      "488/488 [==============================] - 79s 163ms/step - loss: 0.9813 - jaccard_index: 0.7321 - val_loss: 1.0273 - val_jaccard_index: 0.6977\n",
      "Epoch 4/200\n",
      "488/488 [==============================] - 79s 162ms/step - loss: 0.9585 - jaccard_index: 0.7480 - val_loss: 0.9932 - val_jaccard_index: 0.7218\n",
      "Epoch 5/200\n",
      "488/488 [==============================] - 79s 162ms/step - loss: 0.9418 - jaccard_index: 0.7598 - val_loss: 0.9947 - val_jaccard_index: 0.7232\n",
      "Epoch 6/200\n",
      "488/488 [==============================] - 80s 163ms/step - loss: 0.9288 - jaccard_index: 0.7691 - val_loss: 0.9688 - val_jaccard_index: 0.7411\n",
      "Epoch 7/200\n",
      "488/488 [==============================] - 79s 163ms/step - loss: 0.9152 - jaccard_index: 0.7791 - val_loss: 0.9901 - val_jaccard_index: 0.7266\n",
      "Epoch 8/200\n",
      "488/488 [==============================] - 80s 163ms/step - loss: 0.9053 - jaccard_index: 0.7863 - val_loss: 0.9752 - val_jaccard_index: 0.7405\n",
      "Epoch 9/200\n",
      "488/488 [==============================] - 80s 163ms/step - loss: 0.8953 - jaccard_index: 0.7937 - val_loss: 0.9660 - val_jaccard_index: 0.7425\n",
      "Epoch 10/200\n",
      "488/488 [==============================] - 80s 163ms/step - loss: 0.8872 - jaccard_index: 0.7998 - val_loss: 0.9731 - val_jaccard_index: 0.7346\n",
      "Epoch 11/200\n",
      "488/488 [==============================] - 80s 163ms/step - loss: 0.8794 - jaccard_index: 0.8057 - val_loss: 0.9700 - val_jaccard_index: 0.7424\n",
      "Epoch 12/200\n",
      "488/488 [==============================] - 79s 163ms/step - loss: 0.8735 - jaccard_index: 0.8102 - val_loss: 0.9790 - val_jaccard_index: 0.7339\n",
      "Epoch 13/200\n",
      "488/488 [==============================] - 80s 163ms/step - loss: 0.8673 - jaccard_index: 0.8149 - val_loss: 0.9773 - val_jaccard_index: 0.7427\n",
      "Epoch 14/200\n",
      "488/488 [==============================] - 80s 164ms/step - loss: 0.8615 - jaccard_index: 0.8193 - val_loss: 0.9895 - val_jaccard_index: 0.7323\n",
      "Epoch 15/200\n",
      "488/488 [==============================] - 80s 163ms/step - loss: 0.8499 - jaccard_index: 0.8284 - val_loss: 0.9733 - val_jaccard_index: 0.7418\n",
      "Epoch 16/200\n",
      "488/488 [==============================] - 80s 164ms/step - loss: 0.8467 - jaccard_index: 0.8309 - val_loss: 0.9707 - val_jaccard_index: 0.7433\n",
      "Epoch 17/200\n",
      "488/488 [==============================] - 79s 163ms/step - loss: 0.8452 - jaccard_index: 0.8321 - val_loss: 0.9696 - val_jaccard_index: 0.7446\n",
      "Epoch 18/200\n",
      "488/488 [==============================] - 79s 162ms/step - loss: 0.8441 - jaccard_index: 0.8329 - val_loss: 0.9703 - val_jaccard_index: 0.7434\n",
      "Epoch 19/200\n",
      "488/488 [==============================] - 80s 165ms/step - loss: 0.8436 - jaccard_index: 0.8333 - val_loss: 0.9715 - val_jaccard_index: 0.7432\n",
      "Epoch 20/200\n",
      "488/488 [==============================] - 80s 164ms/step - loss: 0.8426 - jaccard_index: 0.8341 - val_loss: 0.9708 - val_jaccard_index: 0.7438\n",
      "Epoch 21/200\n",
      "488/488 [==============================] - 80s 164ms/step - loss: 0.8423 - jaccard_index: 0.8343 - val_loss: 0.9701 - val_jaccard_index: 0.7441\n",
      "Epoch 22/200\n",
      "488/488 [==============================] - 80s 164ms/step - loss: 0.8426 - jaccard_index: 0.8341 - val_loss: 0.9704 - val_jaccard_index: 0.7439\n",
      "Epoch 23/200\n",
      "488/488 [==============================] - 80s 163ms/step - loss: 0.8422 - jaccard_index: 0.8344 - val_loss: 0.9701 - val_jaccard_index: 0.7441\n",
      "Epoch 24/200\n",
      "488/488 [==============================] - 80s 164ms/step - loss: 0.8423 - jaccard_index: 0.8343 - val_loss: 0.9703 - val_jaccard_index: 0.7439\n"
     ]
    }
   ],
   "source": [
    "history = model.fit(\n",
    "    DataGenerator(x_train, y_train, 16),\n",
    "    batch_size=16,\n",
    "    epochs=200,\n",
    "    callbacks=callbacks,\n",
    "    validation_data=(x_test, y_test))"
   ]
  },
  {
   "cell_type": "code",
   "execution_count": 19,
   "metadata": {},
   "outputs": [
    {
     "data": {
      "image/png": "[encoded data removed]",
      "text/plain": [
       "<Figure size 640x480 with 1 Axes>"
      ]
     },
     "metadata": {},
     "output_type": "display_data"
    }
   ],
   "source": [
    "plt.plot(history.history['loss'])\n",
    "plt.plot(history.history['val_loss'])\n",
    "plt.title('model loss')\n",
    "plt.ylabel('loss')\n",
    "plt.xlabel('epoch')\n",
    "plt.legend(['train', 'val'], loc='upper right')\n",
    "plt.show()\n",
    "plt.savefig('training_curves.png')"
   ]
  },
  {
   "cell_type": "markdown",
   "metadata": {},
   "source": [
    "### Save the model"
   ]
  },
  {
   "cell_type": "code",
   "execution_count": 28,
   "metadata": {},
   "outputs": [
    {
     "name": "stdout",
     "output_type": "stream",
     "text": [
      "INFO:tensorflow:Assets written to: ..\\models\\models\\unet_TE\\assets\n"
     ]
    }
   ],
   "source": [
    "model.save(path_model/'unet_TE')"
   ]
  },
  {
   "cell_type": "markdown",
   "metadata": {},
   "source": [
    "### Load the model"
   ]
  },
  {
   "cell_type": "code",
   "execution_count": 54,
   "metadata": {},
   "outputs": [],
   "source": [
    "model = tf.keras.models.load_model(path_model/'unet_TE', custom_objects={'jaccard_index':jaccard_index, 'my_loss_fn':my_loss_fn})"
   ]
  },
  {
   "cell_type": "markdown",
   "metadata": {},
   "source": [
    "### Evaluation (only the metric consider when training)"
   ]
  },
  {
   "cell_type": "code",
   "execution_count": 55,
   "metadata": {},
   "outputs": [
    {
     "name": "stdout",
     "output_type": "stream",
     "text": [
      "19/19 [==============================] - 1s 15ms/step - loss: 1.0255 - jaccard_index: 0.7058\n"
     ]
    }
   ],
   "source": [
    "results = model.evaluate(x_test, y_test, batch_size=2)"
   ]
  },
  {
   "cell_type": "markdown",
   "metadata": {},
   "source": [
    "# Evaluation"
   ]
  },
  {
   "cell_type": "markdown",
   "metadata": {},
   "source": [
    "### Predictions"
   ]
  },
  {
   "cell_type": "code",
   "execution_count": 56,
   "metadata": {
    "colab": {
     "base_uri": "https://localhost:8080/"
    },
    "id": "WlZGj6L9sFIe",
    "outputId": "01979d8f-44b8-443b-d930-c04a3aeffea2"
   },
   "outputs": [],
   "source": [
    "predictions = model.predict(x_test, batch_size=2)"
   ]
  },
  {
   "cell_type": "markdown",
   "metadata": {},
   "source": [
    "#### Define the metrics"
   ]
  },
  {
   "cell_type": "code",
   "execution_count": 57,
   "metadata": {},
   "outputs": [],
   "source": [
    "def accuracy(target, prediction):\n",
    "    true_detec = np.logical_not(np.logical_xor(target, prediction))\n",
    "    return np.sum(true_detec)/np.sum(np.ones_like(target))\n",
    "\n",
    "def precision(target, prediction):\n",
    "    intersection = np.logical_and(target, prediction)\n",
    "    return np.sum(intersection)/np.sum(prediction)\n",
    "\n",
    "def recall(target, prediction):\n",
    "    intersection = np.logical_and(target, prediction)\n",
    "    return np.sum(intersection)/np.sum(target)\n",
    "\n",
    "def jaccard(target, prediction):\n",
    "    intersection = np.logical_and(target, prediction)\n",
    "    union = np.logical_or(target, prediction)\n",
    "    return np.sum(intersection) / np.sum(union)\n",
    "\n",
    "def dice(target, prediction):\n",
    "    intersection = np.logical_and(target, prediction)\n",
    "    return 2*np.sum(intersection) / (np.sum(target) + np.sum(prediction))"
   ]
  },
  {
   "cell_type": "code",
   "execution_count": 58,
   "metadata": {},
   "outputs": [],
   "source": [
    "def metrics(target, prediction):\n",
    "    return {'accuracy': accuracy(target, prediction),\n",
    "            'precision': precision(target, prediction),\n",
    "            'recall': recall(target, prediction),\n",
    "            'specificity': recall(1-target,1- prediction),\n",
    "            'jaccard':jaccard(target, prediction),\n",
    "            'dice': dice(target, prediction)}"
   ]
  },
  {
   "cell_type": "code",
   "execution_count": 59,
   "metadata": {},
   "outputs": [],
   "source": [
    "def summary_metrics(y_test,predictions,thresh=0.5):\n",
    "    a,p,r,s,j,d=0.,0.,0.,0.,0.,0.\n",
    "    n=len(predictions)\n",
    "    for i in range(n):\n",
    "        preds= (predictions[i][:,:,0]>=thresh).astype('uint8')\n",
    "        gt= y_test[i].astype('uint8')\n",
    "        metricas=metrics(gt,preds)\n",
    "        a+=metricas['accuracy']\n",
    "        p+=metricas['precision']\n",
    "        r+=metricas['recall']\n",
    "        s+=metricas['specificity']\n",
    "        j+=metricas['jaccard']\n",
    "        d+=metricas['dice']\n",
    "    return {'accuracy': a/n,\n",
    "            'precision': p/n,\n",
    "            'recall': r/n,\n",
    "            'specificity': s/n,\n",
    "            'jaccard':j/n,\n",
    "            'dice': d/n}"
   ]
  },
  {
   "cell_type": "markdown",
   "metadata": {},
   "source": [
    "### Metrics"
   ]
  },
  {
   "cell_type": "code",
   "execution_count": 60,
   "metadata": {},
   "outputs": [
    {
     "data": {
      "text/plain": [
       "{'accuracy': 0.9587129291735197,\n",
       " 'precision': 0.784044921284722,\n",
       " 'recall': 0.8834590494842223,\n",
       " 'specificity': 0.9689874370632041,\n",
       " 'jaccard': 0.7059851091709849,\n",
       " 'dice': 0.8239771445467357}"
      ]
     },
     "execution_count": 60,
     "metadata": {},
     "output_type": "execute_result"
    }
   ],
   "source": [
    "summary_metrics(y_test,predictions, 0.5)"
   ]
  },
  {
   "cell_type": "markdown",
   "metadata": {},
   "source": [
    "### INFERENCE"
   ]
  },
  {
   "cell_type": "markdown",
   "metadata": {},
   "source": [
    "#### The whole set is needed to standarize the images.\n",
    "This is a private dataset so it is not available."
   ]
  },
  {
   "cell_type": "code",
   "execution_count": 26,
   "metadata": {},
   "outputs": [],
   "source": [
    "path=Path('../IMAGES')\n",
    "imgs, _ = load_imgs(path)\n",
    "imgs,_,_ = std_norm(imgs)"
   ]
  },
  {
   "cell_type": "code",
   "execution_count": 27,
   "metadata": {},
   "outputs": [],
   "source": [
    "predictions = model.predict(imgs,batch_size=2)"
   ]
  },
  {
   "cell_type": "code",
   "execution_count": 28,
   "metadata": {},
   "outputs": [
    {
     "data": {
      "text/plain": [
       "<matplotlib.image.AxesImage at 0x2dd2bba7af0>"
      ]
     },
     "execution_count": 28,
     "metadata": {},
     "output_type": "execute_result"
    },
    {
     "data": {
      "image/png": "[encoded data removed]",
      "text/plain": [
       "<Figure size 640x480 with 1 Axes>"
      ]
     },
     "metadata": {},
     "output_type": "display_data"
    }
   ],
   "source": [
    "plt.imshow(predictions[0]>0.5)"
   ]
  },
  {
   "cell_type": "code",
   "execution_count": null,
   "metadata": {},
   "outputs": [],
   "source": []
  }
 ],
 "metadata": {
  "accelerator": "GPU",
  "colab": {
   "provenance": []
  },
  "gpuClass": "standard",
  "kernelspec": {
   "display_name": "Python [conda env:tf]",
   "language": "python",
   "name": "conda-env-tf-py"
  },
  "language_info": {
   "codemirror_mode": {
    "name": "ipython",
    "version": 3
   },
   "file_extension": ".py",
   "mimetype": "text/x-python",
   "name": "python",
   "nbconvert_exporter": "python",
   "pygments_lexer": "ipython3",
   "version": "3.9.16"
  }
 },
 "nbformat": 4,
 "nbformat_minor": 1
}
